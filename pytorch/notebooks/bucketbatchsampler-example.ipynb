{
 "cells": [
  {
   "cell_type": "markdown",
   "metadata": {},
   "source": [
    "# BucketBatchSampler Example"
   ]
  },
  {
   "cell_type": "code",
   "execution_count": 1,
   "metadata": {},
   "outputs": [],
   "source": [
    "%reload_ext autoreload\n",
    "%autoreload 2\n",
    "%matplotlib inline"
   ]
  },
  {
   "cell_type": "code",
   "execution_count": 2,
   "metadata": {},
   "outputs": [],
   "source": [
    "import os\n",
    "import sys\n",
    "\n",
    "home_dir = os.path.expanduser('~')\n",
    "sys.path.append(\"{}/dev/github/ml-toolkit\".format(home_dir))"
   ]
  },
  {
   "cell_type": "code",
   "execution_count": 3,
   "metadata": {},
   "outputs": [],
   "source": [
    "import numpy as np"
   ]
  },
  {
   "cell_type": "markdown",
   "metadata": {},
   "source": [
    "## Toy Example"
   ]
  },
  {
   "cell_type": "markdown",
   "metadata": {},
   "source": [
    "### Generate Example Data"
   ]
  },
  {
   "cell_type": "code",
   "execution_count": 4,
   "metadata": {},
   "outputs": [
    {
     "name": "stdout",
     "output_type": "stream",
     "text": [
      "Number of data items: 22\n"
     ]
    }
   ],
   "source": [
    "data = [('one two three four', 'eins zwei drei vier'),\n",
    "        ('one two three four', 'eins zwei drei vier'),\n",
    "        ('one two three four', 'eins zwei drei vier'),\n",
    "        ('one two three four', 'eins zwei drei vier'),\n",
    "        ('one two three four', 'eins zwei drei vier'),\n",
    "        ('one two three four', 'eins zwei drei vier'),\n",
    "        ('one two three four', 'eins zwei drei'),\n",
    "        ('one two three four', 'eins zwei drei'),\n",
    "        ('one two three four', 'eins zwei drei'),\n",
    "        ('one two three four', 'eins zwei drei vier fuenf'),\n",
    "        ('one two three four', 'eins zwei drei vier fuenf'),\n",
    "        ('one two three', 'eins zwei drei vier'),\n",
    "        ('one two three', 'eins zwei drei'),\n",
    "        ('one two three', 'eins zwei drei'),\n",
    "        ('one two three', 'eins zwei drei'),\n",
    "        ('one two three', 'eins zwei drei'),\n",
    "        ('one two three', 'eins zwei drei'),\n",
    "        ('one two three', 'eins zwei drei'),\n",
    "        ('one two three', 'eins zwei drei'),\n",
    "        ('one two three', 'eins zwei drei'),\n",
    "        ('one two three', 'eins zwei drei'),\n",
    "        ('one two three', 'eins zwei drei vier fuenf')\n",
    "       ]\n",
    "\n",
    "print(\"Number of data items: {}\".format(len(data)))"
   ]
  },
  {
   "cell_type": "code",
   "execution_count": 5,
   "metadata": {},
   "outputs": [],
   "source": [
    "inputs = [ tup[0] for tup in data ]\n",
    "targets = [ tup[1] for tup in data ]"
   ]
  },
  {
   "cell_type": "markdown",
   "metadata": {},
   "source": [
    "### Vectorize Data\n",
    "\n",
    "**IMPORTANT:** For a traditional machine translation tasks with two different vocabularies, one should use two vectorizers, one for each language. Here it doesn't matter, since we're only interested in the shape of the batches."
   ]
  },
  {
   "cell_type": "code",
   "execution_count": 6,
   "metadata": {},
   "outputs": [],
   "source": [
    "from pytorch.utils.data.text.vectorizer import Vectorizer"
   ]
  },
  {
   "cell_type": "code",
   "execution_count": 7,
   "metadata": {},
   "outputs": [
    {
     "name": "stdout",
     "output_type": "stream",
     "text": [
      "{'one': 0, 'two': 1, 'three': 2, 'eins': 3, 'zwei': 4, 'drei': 5, 'four': 6, 'vier': 7, 'fuenf': 8}\n"
     ]
    }
   ],
   "source": [
    "# Method fit_on_texts expects a list of strings, so we need to merge the tuples forist\n",
    "text_list = [ \"{} {}\".format(tup[0], tup[1]) for tup in data ]\n",
    "\n",
    "vectorizer = Vectorizer()\n",
    "vectorizer.fit_on_texts(text_list)\n",
    "\n",
    "print(vectorizer.vocabulary.word_to_index)"
   ]
  },
  {
   "cell_type": "code",
   "execution_count": 8,
   "metadata": {},
   "outputs": [
    {
     "name": "stdout",
     "output_type": "stream",
     "text": [
      "[array([0, 1, 2, 6]) array([0, 1, 2, 6]) array([0, 1, 2, 6])\n",
      " array([0, 1, 2, 6]) array([0, 1, 2, 6]) array([0, 1, 2, 6])\n",
      " array([0, 1, 2, 6]) array([0, 1, 2, 6]) array([0, 1, 2, 6])\n",
      " array([0, 1, 2, 6]) array([0, 1, 2, 6]) array([0, 1, 2]) array([0, 1, 2])\n",
      " array([0, 1, 2]) array([0, 1, 2]) array([0, 1, 2]) array([0, 1, 2])\n",
      " array([0, 1, 2]) array([0, 1, 2]) array([0, 1, 2]) array([0, 1, 2])\n",
      " array([0, 1, 2])]\n"
     ]
    }
   ],
   "source": [
    "inputs_vectorized, _ = vectorizer.texts_to_sequences(inputs)\n",
    "targets_vectorized, _ = vectorizer.texts_to_sequences(targets)\n",
    "\n",
    "print(inputs_vectorized)"
   ]
  },
  {
   "cell_type": "markdown",
   "metadata": {},
   "source": [
    "### Create Data Generator"
   ]
  },
  {
   "cell_type": "code",
   "execution_count": 10,
   "metadata": {},
   "outputs": [],
   "source": [
    "batch_size = 5"
   ]
  },
  {
   "cell_type": "code",
   "execution_count": 23,
   "metadata": {},
   "outputs": [
    {
     "name": "stdout",
     "output_type": "stream",
     "text": [
      "Number of batches: 8\n"
     ]
    }
   ],
   "source": [
    "from torch.utils.data import DataLoader\n",
    "from pytorch.utils.data.text.dataset import BucketBatchSampler, BucketDataset\n",
    "\n",
    "bucket_batch_sampler = BucketBatchSampler(batch_size, inputs_vectorized, targets_vectorized)\n",
    "# In case targets=None    \n",
    "#bucket_batch_sampler = BucketBatchSampler(batch_size, inputs_vectorized, None)\n",
    "\n",
    "bucket_dataset = BucketDataset(inputs_vectorized, targets_vectorized)\n",
    "# In case targets=None    \n",
    "#bucket_dataset = BucketDataset(inputs_vectorized, None)\n",
    "\n",
    "data_iter = DataLoader(bucket_dataset,batch_sampler=bucket_batch_sampler, shuffle=False, num_workers=6, drop_last=False)\n",
    "\n",
    "print(\"Number of batches: {}\".format(data_iter.batch_sampler.batch_count()))"
   ]
  },
  {
   "cell_type": "code",
   "execution_count": 24,
   "metadata": {},
   "outputs": [
    {
     "name": "stdout",
     "output_type": "stream",
     "text": [
      "++++++++++++++++++++\n",
      "tensor([[0, 1, 2, 6],\n",
      "        [0, 1, 2, 6],\n",
      "        [0, 1, 2, 6],\n",
      "        [0, 1, 2, 6],\n",
      "        [0, 1, 2, 6]])\n",
      "tensor([[3, 4, 5, 7],\n",
      "        [3, 4, 5, 7],\n",
      "        [3, 4, 5, 7],\n",
      "        [3, 4, 5, 7],\n",
      "        [3, 4, 5, 7]])\n",
      "++++++++++++++++++++\n",
      "tensor([[0, 1, 2],\n",
      "        [0, 1, 2],\n",
      "        [0, 1, 2],\n",
      "        [0, 1, 2],\n",
      "        [0, 1, 2]])\n",
      "tensor([[3, 4, 5],\n",
      "        [3, 4, 5],\n",
      "        [3, 4, 5],\n",
      "        [3, 4, 5],\n",
      "        [3, 4, 5]])\n",
      "++++++++++++++++++++\n",
      "tensor([[0, 1, 2]])\n",
      "tensor([[3, 4, 5, 7, 8]])\n",
      "++++++++++++++++++++\n",
      "tensor([[0, 1, 2, 6]])\n",
      "tensor([[3, 4, 5, 7]])\n",
      "++++++++++++++++++++\n",
      "tensor([[0, 1, 2, 6],\n",
      "        [0, 1, 2, 6],\n",
      "        [0, 1, 2, 6]])\n",
      "tensor([[3, 4, 5],\n",
      "        [3, 4, 5],\n",
      "        [3, 4, 5]])\n",
      "++++++++++++++++++++\n",
      "tensor([[0, 1, 2],\n",
      "        [0, 1, 2],\n",
      "        [0, 1, 2],\n",
      "        [0, 1, 2]])\n",
      "tensor([[3, 4, 5],\n",
      "        [3, 4, 5],\n",
      "        [3, 4, 5],\n",
      "        [3, 4, 5]])\n",
      "++++++++++++++++++++\n",
      "tensor([[0, 1, 2, 6],\n",
      "        [0, 1, 2, 6]])\n",
      "tensor([[3, 4, 5, 7, 8],\n",
      "        [3, 4, 5, 7, 8]])\n",
      "++++++++++++++++++++\n",
      "tensor([[0, 1, 2]])\n",
      "tensor([[3, 4, 5, 7]])\n"
     ]
    }
   ],
   "source": [
    "for batch_inputs, batch_targets in data_iter:\n",
    "    print(\"++++++++++++++++++++\")\n",
    "    print(batch_inputs)\n",
    "    print(batch_targets)\n",
    "    \n",
    "# In case targets=None    \n",
    "#for batch_inputs in data_iter:\n",
    "#    print(\"++++++++++++++++++++\")\n",
    "#    print(batch_inputs)\n"
   ]
  },
  {
   "cell_type": "markdown",
   "metadata": {},
   "source": [
    "## Real-World Example\n",
    "\n",
    "Link to dataset: http://www.isi.edu/natural-language/download/hansard/hansard.36.r2001-1a.house.debates.training.tar\n",
    "\n",
    "(for the test, I considered only the first 1 Million lines in each file)"
   ]
  },
  {
   "cell_type": "markdown",
   "metadata": {},
   "source": [
    "### Load Data"
   ]
  },
  {
   "cell_type": "code",
   "execution_count": 25,
   "metadata": {},
   "outputs": [
    {
     "name": "stderr",
     "output_type": "stream",
     "text": [
      "Exception ignored in: <bound method _DataLoaderIter.__del__ of <torch.utils.data.dataloader._DataLoaderIter object at 0x7fa53dbfdd30>>\n",
      "Traceback (most recent call last):\n",
      "  File \"/home/vdw/.local/lib/python3.6/site-packages/torch/utils/data/dataloader.py\", line 717, in __del__\n",
      "    self._shutdown_workers()\n",
      "  File \"/home/vdw/.local/lib/python3.6/site-packages/torch/utils/data/dataloader.py\", line 713, in _shutdown_workers\n",
      "    w.join()\n",
      "  File \"/home/vdw/env/anaconda3/envs/py36/lib/python3.6/multiprocessing/process.py\", line 124, in join\n",
      "    res = self._popen.wait(timeout)\n",
      "  File \"/home/vdw/env/anaconda3/envs/py36/lib/python3.6/multiprocessing/popen_fork.py\", line 50, in wait\n",
      "    return self.poll(os.WNOHANG if timeout == 0.0 else 0)\n",
      "  File \"/home/vdw/env/anaconda3/envs/py36/lib/python3.6/multiprocessing/popen_fork.py\", line 28, in poll\n",
      "    pid, sts = os.waitpid(self.pid, flag)\n",
      "KeyboardInterrupt: \n"
     ]
    },
    {
     "name": "stdout",
     "output_type": "stream",
     "text": [
      "1000000 done\n",
      "1000000\n"
     ]
    }
   ],
   "source": [
    "data = []\n",
    "\n",
    "cnt = 0\n",
    "with open(\"train.de.sample\") as f1, open(\"train.en.sample\") as f2: \n",
    "    for x, y in zip(f1, f2):\n",
    "        x = x.strip()\n",
    "        y = y.strip()\n",
    "        #print(\"{0}\\t{1}\".format(x, y))\n",
    "        data.append((x, y))\n",
    "        cnt += 1\n",
    "        if cnt % 1000000 == 0:\n",
    "            print(\"{} done\".format(cnt))\n",
    "        \n",
    "print(len(data))"
   ]
  },
  {
   "cell_type": "code",
   "execution_count": 26,
   "metadata": {},
   "outputs": [
    {
     "name": "stdout",
     "output_type": "stream",
     "text": [
      "('iron cement ist eine gebrauchs ##AT##-##AT## fertige Paste , die mit einem Spachtel oder den Fingern als Hohlkehle in die Formecken ( Winkel ) der Stahlguss -Kokille aufgetragen wird .', 'iron cement is a ready for use paste which is laid as a fillet by putty knife or finger in the mould edges ( corners ) of the steel ingot mould .')\n"
     ]
    }
   ],
   "source": [
    "print(data[0])"
   ]
  },
  {
   "cell_type": "markdown",
   "metadata": {},
   "source": [
    "### Vectorize Data\n",
    "\n",
    "**IMPORTANT:** For a traditional machine translation tasks with two different vocabularies, one should use two vectorizers, one for each language. Here it doesn't matter, since we're only interested in the shape of the batches."
   ]
  },
  {
   "cell_type": "code",
   "execution_count": 27,
   "metadata": {},
   "outputs": [],
   "source": [
    "from pytorch.utils.data.text.vectorizer import Vectorizer"
   ]
  },
  {
   "cell_type": "code",
   "execution_count": 29,
   "metadata": {},
   "outputs": [],
   "source": [
    "# Method fit_on_texts expects a list of strings, so we need to merge the tuples forist\n",
    "text_list = [ \"{} {}\".format(tup[0], tup[1]) for tup in data ]\n",
    "\n",
    "# In a real setting, you typically want to reserve some default tokens\n",
    "vectorizer = Vectorizer(default_indexes={0: '<pad>', 1: '<unk>', 2: '<sos>', 3: '<eos>'})\n",
    "vectorizer.fit_on_texts(text_list)\n",
    "\n",
    "# We don't need this anyore => make some room in the memory\n",
    "text_list = None"
   ]
  },
  {
   "cell_type": "code",
   "execution_count": 30,
   "metadata": {},
   "outputs": [
    {
     "name": "stdout",
     "output_type": "stream",
     "text": [
      "[array([  5651,  25122,     29,     44, 486259,     11,  28715,  26681,\n",
      "            4,     15,     25,     87, 172118,     55,     28,  40513,\n",
      "           73, 486260,      7,     15, 486261,     17,  16130,     18,\n",
      "           13, 262353, 486262,  43090,     76,      5])\n",
      " array([   588,     13, 322259,  10322,   5651,  25122,     15, 262354,\n",
      "          450,     28,  23841,      4, 262355, 262353,      5])\n",
      " array([262356, 486263,     35, 486264,      4,  59463,      4,   7832,\n",
      "       144743,   1560])\n",
      " ...\n",
      " array([  2223,    187,    299,     41,  12492,     32,      6,   1369,\n",
      "           12,  21886,     14,   3109,   1237,      9,    187,   3997,\n",
      "          413,   1599,     27,    191, 486258,   3327,    456,     21,\n",
      "         5009,   1390,   6894,      5])\n",
      " array([ 9368, 15797,   371, 10130,   452,  1358, 74060,    14,   691,\n",
      "        8271,   371, 10130, 12492, 19053,   165,  2722,    79,  8081,\n",
      "        1191, 26575,  9332, 19923,    79,  1786,   413,  1599,  2146,\n",
      "         122,  3424,     4,  7937,     4,  1278,     4, 37507,     4,\n",
      "       10716,   350,   452, 13467,    79,  8450,   413,  1599,     5])\n",
      " array([ 9368,   930,   313, 38613,    79,   165,  1390,    14,   691,\n",
      "         299,   371,   313, 12492, 19053,   165,  2722,    79,  8081,\n",
      "        1422, 18916,  5042,   531, 26024,  1735,   452, 66339,    79,\n",
      "       35927,   350,  9155,     4,   145,  3424,  2146, 25156, 15895,\n",
      "          79, 15426, 75421,     4,   452,  4771,  7937,     4,  1278,\n",
      "           4,  6525,   531, 60071,     4,  5909,     4, 10606,   350,\n",
      "         452,    64])]\n",
      "1000000\n"
     ]
    }
   ],
   "source": [
    "inputs = [ tup[0] for tup in data ]\n",
    "targets = [ tup[1] for tup in data ]\n",
    "\n",
    "inputs_vectorized, _ = vectorizer.texts_to_sequences(inputs, padding_idx=0, unknown_idx=1)\n",
    "targets_vectorized, _ = vectorizer.texts_to_sequences(targets, padding_idx=0, unknown_idx=1)\n",
    "\n",
    "print(inputs_vectorized)\n",
    "print(len(inputs_vectorized))"
   ]
  },
  {
   "cell_type": "markdown",
   "metadata": {},
   "source": [
    "### Create Data Generator"
   ]
  },
  {
   "cell_type": "code",
   "execution_count": 31,
   "metadata": {},
   "outputs": [],
   "source": [
    "batch_size = 32"
   ]
  },
  {
   "cell_type": "code",
   "execution_count": 32,
   "metadata": {},
   "outputs": [
    {
     "name": "stdout",
     "output_type": "stream",
     "text": [
      "Number of batches: 36705\n"
     ]
    }
   ],
   "source": [
    "from torch.utils.data import DataLoader\n",
    "from pytorch.utils.data.text.dataset import BucketBatchSampler, BucketDataset\n",
    "\n",
    "bucket_batch_sampler = BucketBatchSampler(batch_size, inputs_vectorized, targets_vectorized)\n",
    "\n",
    "bucket_dataset = BucketDataset(inputs_vectorized, targets_vectorized)\n",
    "\n",
    "data_iter = DataLoader(bucket_dataset,batch_sampler=bucket_batch_sampler, shuffle=False, num_workers=6, drop_last=False)\n",
    "\n",
    "print(\"Number of batches: {}\".format(data_iter.batch_sampler.batch_count()))"
   ]
  },
  {
   "cell_type": "code",
   "execution_count": 33,
   "metadata": {},
   "outputs": [
    {
     "name": "stdout",
     "output_type": "stream",
     "text": [
      "1000000\n"
     ]
    }
   ],
   "source": [
    "print(len(bucket_batch_sampler))"
   ]
  },
  {
   "cell_type": "code",
   "execution_count": 34,
   "metadata": {},
   "outputs": [],
   "source": [
    "batch_sizes = {}\n",
    "\n",
    "for batch_input, batch_target in data_iter:\n",
    "    batch_size = batch_input.shape[0]\n",
    "    if batch_size in batch_sizes:\n",
    "        batch_sizes[batch_size] += 1\n",
    "    else:\n",
    "        batch_sizes[batch_size] = 1\n"
   ]
  },
  {
   "cell_type": "code",
   "execution_count": 39,
   "metadata": {
    "scrolled": true
   },
   "outputs": [
    {
     "data": {
      "image/png": "[encoded data removed]",
      "text/plain": [
       "<Figure size 432x288 with 1 Axes>"
      ]
     },
     "metadata": {
      "needs_background": "light"
     },
     "output_type": "display_data"
    }
   ],
   "source": [
    "import matplotlib.pylab as plt\n",
    "\n",
    "lists = sorted(batch_sizes.items()) # sorted by key, return a list of tuples\n",
    "\n",
    "x, y = zip(*lists) # unpack a list of pairs into two tuples\n",
    "\n",
    "plt.plot(x, y)\n",
    "plt.savefig('bucketbatchsample-batch-size-distribution.png')\n",
    "plt.show()\n"
   ]
  },
  {
   "cell_type": "code",
   "execution_count": null,
   "metadata": {},
   "outputs": [],
   "source": []
  }
 ],
 "metadata": {
  "kernelspec": {
   "display_name": "Python [conda env:py36]",
   "language": "python",
   "name": "conda-env-py36-py"
  },
  "language_info": {
   "codemirror_mode": {
    "name": "ipython",
    "version": 3
   },
   "file_extension": ".py",
   "mimetype": "text/x-python",
   "name": "python",
   "nbconvert_exporter": "python",
   "pygments_lexer": "ipython3",
   "version": "3.6.8"
  }
 },
 "nbformat": 4,
 "nbformat_minor": 2
}
